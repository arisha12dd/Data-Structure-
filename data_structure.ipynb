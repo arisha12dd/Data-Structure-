{
  "nbformat": 4,
  "nbformat_minor": 0,
  "metadata": {
    "colab": {
      "provenance": []
    },
    "kernelspec": {
      "name": "python3",
      "display_name": "Python 3"
    },
    "language_info": {
      "name": "python"
    }
  },
  "cells": [
    {
      "cell_type": "markdown",
      "source": [
        "  1.What are data structures, and why are they important ?\n",
        "\n",
        "  Data structures are ways to organize and store data in a computer so it can be used efficiently.\n",
        "\n",
        "  Importance:\n",
        "\n",
        "  1.Help manage and access data easily\n",
        "\n",
        "  2.Improve speed and performance of programs\n",
        "\n",
        "  3.Save memory and processing time\n",
        "\n",
        "  4.Are essential for writing efficient algorithms\n",
        "     "
      ],
      "metadata": {
        "id": "SzDcAMtj2s8H"
      }
    },
    {
      "cell_type": "markdown",
      "source": [
        "2. Explain the difference between mutable and immutable data types with examples?\n",
        "\n",
        "  The differences between mutable data types and immutables data types are as follows :\n",
        "\n",
        "    1.Mutable Data Types\n",
        "    Means: We can change the values after creating them.\n",
        "\n",
        "    Example: list, dict, set\n",
        "\n",
        "    2.Immutable Data Types\n",
        "    Means: We cannot change the values after creating them.\n",
        "\n",
        "    Example: int, float, str, tuple"
      ],
      "metadata": {
        "id": "TWv1K8cz3xHb"
      }
    },
    {
      "cell_type": "markdown",
      "source": [
        "3. What are the main differences between lists and tuples in Python?\n",
        "\n",
        "  Main differences between lists and tuples in Python:\n",
        "\n",
        "   1.Lists are mutable (can be changed), tuples are immutable (cannot be changed).\n",
        "\n",
        "    2.Lists use [], tuples use ().\n",
        "\n",
        "     3.Tuples are faster and more memory-efficient."
      ],
      "metadata": {
        "id": "ds4cuUUO3xXF"
      }
    },
    {
      "cell_type": "markdown",
      "source": [
        "  4.Describe how dictionaries store data?\n",
        "\n",
        "  Main differences between lists and tuples in Python:\n",
        "\n",
        "  1.Lists are mutable (can be changed), tuples are immutable (cannot be changed).\n",
        "\n",
        "  2.Lists use [], tuples use ().\n",
        "\n",
        "  3.Tuples are faster and more memory-efficient.\n",
        "\n"
      ],
      "metadata": {
        "id": "DpDLLKpw3xaP"
      }
    },
    {
      "cell_type": "markdown",
      "source": [
        "5. Why might you use a set instead of a list in Python?\n",
        "\n",
        "     Sets automatically remove duplicates and offer faster membership checks.\n",
        "\n"
      ],
      "metadata": {
        "id": "OJEOOG8a4vVQ"
      }
    },
    {
      "cell_type": "markdown",
      "source": [
        "6.  What is a string in Python, and how is it different from a list?\n",
        "     \n",
        "     . A string is a sequence of characters, immutable.\n",
        "\n",
        "    . A list can hold items of any type and is mutable.\n",
        "\n",
        "\n"
      ],
      "metadata": {
        "id": "t90NW8gp3xd2"
      }
    },
    {
      "cell_type": "markdown",
      "source": [
        "7.  How do tuples ensure data integrity in Python ?\n",
        "\n",
        "   Tuples cannot be changed after creation, protecting the data from modification.\n"
      ],
      "metadata": {
        "id": "w6jU6WlW3xhQ"
      }
    },
    {
      "cell_type": "markdown",
      "source": [
        "8. What is a hash table, and how does it relate to dictionaries in Python ?\n",
        "\n",
        "  A hash table maps keys to values using a hashing function; Python dictionaries use this internally.\n"
      ],
      "metadata": {
        "id": "-etSi3nv-Ehh"
      }
    },
    {
      "cell_type": "markdown",
      "source": [
        "9.  Can lists contain different data types in Python?\n",
        "\n",
        "    Yes, lists can contain mixed data types (e.g., int, str, float).\n",
        "\n"
      ],
      "metadata": {
        "id": "SsPWL79Q-FBz"
      }
    },
    {
      "cell_type": "markdown",
      "source": [
        "10. Explain why strings are immutable in Python?\n",
        "\n",
        "   To improve performance, memory efficiency, and ensure hashability (for use in sets/dicts).\n",
        "\n"
      ],
      "metadata": {
        "id": "nvvd895O-Ff-"
      }
    },
    {
      "cell_type": "markdown",
      "source": [
        "  11.What advantages do dictionaries offer over lists for certain tasks?\n",
        "\n",
        "  Advantages of dictionaries over lists for certain tasks:\n",
        "\n",
        "  Faster lookups by key and better for data mapping.\n",
        "\n",
        "\n"
      ],
      "metadata": {
        "id": "a2VpfS8k-GEm"
      }
    },
    {
      "cell_type": "markdown",
      "source": [
        "12. Describe a scenario where using a tuple would be preferable over a list?\n",
        "\n",
        "    Sets only keep unique elements.\n",
        "\n",
        "    If duplicates are added, they are automatically removed.\n",
        "\n",
        "\n",
        "\n",
        "     \n",
        "\n"
      ],
      "metadata": {
        "id": "pYNwN1nv_H3q"
      }
    },
    {
      "cell_type": "markdown",
      "source": [
        "13. How do sets handle duplicate values in Python?\n",
        "\n",
        "   Think of a set like a basket that only allows one of each type of item. So if you try to add the same value more than once, it simply ignores the duplicates.\n",
        "    For example, if you do this:\n",
        "\n",
        "     my_set = {1, 2, 2, 3}\n",
        "\n",
        "     print(my_set)\n",
        "\n",
        "    You'll see the output as {1, 2, 3} — it automatically removes the extra 2. Sets are great when you want to store unique values only.\n"
      ],
      "metadata": {
        "id": "vIT8ddto_IgF"
      }
    },
    {
      "cell_type": "markdown",
      "source": [
        "14. How does the “in” keyword work differently for lists and dictionaries?\n",
        "\n",
        "  When you use \"in\" with a list, it checks if a value exists. For example:\n",
        "\n",
        "   python\n",
        "    fruits = [\"apple\", \"banana\", \"mango\"]\n",
        "    \"banana\" in fruits  # True\n",
        "    But when you use \"in\" with a dictionary, it checks for a key, not a value:\n",
        "\n",
        "    python\n",
        "    person = {\"name\": \"Arisha\", \"age\": 25}\n",
        "    \"name\" in person  # True (key)\n",
        "     \"Arisha\" in person  # False (value)\n",
        "      So, with dictionaries, \"in\" doesn’t look at the values unless you specifically ask it to (\"Arisha\" in person.values()).\n",
        "\n"
      ],
      "metadata": {
        "id": "EcbzCni5_Joh"
      }
    },
    {
      "cell_type": "markdown",
      "source": [
        "15.  Can you modify the elements of a tuple? Explain why or why not ?\n",
        "   \n",
        "    No, you can’t modify the elements of a tuple — and here’s why, in simple terms:\n",
        "\n",
        "   A tuple is like a sealed box — once you put items in and close it, you can’t open it to change what’s inside. It’s “read-only”.\n",
        "    That means you can look at the items, but you can’t add, remove, or change them.\n",
        "\n",
        "  This is because tuples are immutable — a fancy word that means “unchangeable.”\n",
        "\n",
        "\n",
        "  \n"
      ],
      "metadata": {
        "id": "e3rnH6vBLkmz"
      }
    },
    {
      "cell_type": "markdown",
      "source": [
        " 16.What is a nested dictionary, and give an example of its use case?\n",
        "\n",
        "  A nested dictionary is like a dictionary inside another one — like a filing cabinet with folders, and each folder has more details.\n",
        "\n",
        " Example:\n",
        "\n",
        "  python\n",
        "\n",
        "  students =\n",
        "  {\n",
        "    \"A001\": {\"name\": \"Ali\", \"age\": 20},\n",
        "    \"A002\": {\"name\": \"Sara\", \"age\": 22}\n",
        "}\n",
        "  This helps when you want to group related data — like student records, where each student has their own details."
      ],
      "metadata": {
        "id": "qOsMzMV_Gk7U"
      }
    },
    {
      "cell_type": "markdown",
      "source": [
        "17.What is the time complexity of accessing elements in a dictionary?\n",
        "\n",
        "  Looking up something in a dictionary is usually very fast — it takes the same amount of time no matter how big the dictionary is.\n",
        "  \n",
        "  That’s called O(1) time — think of it like quickly jumping to the right page in a book using a bookmark."
      ],
      "metadata": {
        "id": "Aho83jhJGkvy"
      }
    },
    {
      "cell_type": "markdown",
      "source": [
        "18. In what situations are lists preferred over dictionaries?\n",
        "\n",
        "\n",
        "  Use a list when:\n",
        "\n",
        "  You care about the order like a to-do list\n",
        "\n",
        "   You just need a simple collection without names\n",
        "\n",
        "   You want to loop through things in order\n",
        "    For example\n",
        "     a list of groceries makes more sense than a dictionary."
      ],
      "metadata": {
        "id": "USSX1B7nGkj_"
      }
    },
    {
      "cell_type": "markdown",
      "source": [
        "19 .Why are dictionaries considered unordered, and how does that affect retrieval?\n",
        "\n",
        "   Dictionaries don’t let you get things\n",
        "   by number like a list does. You look things up by name (key).\n",
        "\n",
        "   Before Python 3.7, they didn’t even keep things in the order you added them — so the order wasn't predictable.\n",
        "\n",
        "   Even now, you still can’t use positions like dict[0] — you must use the key name.\n",
        "\n"
      ],
      "metadata": {
        "id": "sUIPb_ZdGj3i"
      }
    },
    {
      "cell_type": "markdown",
      "source": [
        "20. Explain the difference between a list and a dictionary in terms of data retrieval.\n",
        "\n",
        "A list is like a row of lockers — you open locker #0, #1, #2, etc.\n",
        "\n",
        "A dictionary is like a contact list — you look up people by name, not by position.\n",
        "\n",
        "So, if you know what you're looking for, use a dictionary. If you just care about the order or want to go through everything, use a list."
      ],
      "metadata": {
        "id": "RwAhnCGJKINo"
      }
    }
  ]
}